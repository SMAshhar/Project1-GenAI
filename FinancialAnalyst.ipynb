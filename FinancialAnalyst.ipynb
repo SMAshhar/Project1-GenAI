{
 "cells": [
  {
   "cell_type": "code",
   "execution_count": 1,
   "metadata": {},
   "outputs": [
    {
     "name": "stdout",
     "output_type": "stream",
     "text": [
      "Requirement already satisfied: python-dotenv in c:\\users\\v2fftb\\appdata\\local\\programs\\python\\python312\\lib\\site-packages (from -r requirements.txt (line 1)) (1.0.0)\n",
      "Requirement already satisfied: openai in c:\\users\\v2fftb\\appdata\\local\\programs\\python\\python312\\lib\\site-packages (from -r requirements.txt (line 2)) (1.3.6)\n",
      "Requirement already satisfied: anyio<4,>=3.5.0 in c:\\users\\v2fftb\\appdata\\local\\programs\\python\\python312\\lib\\site-packages (from openai->-r requirements.txt (line 2)) (3.7.1)\n",
      "Requirement already satisfied: distro<2,>=1.7.0 in c:\\users\\v2fftb\\appdata\\local\\programs\\python\\python312\\lib\\site-packages (from openai->-r requirements.txt (line 2)) (1.8.0)\n",
      "Requirement already satisfied: httpx<1,>=0.23.0 in c:\\users\\v2fftb\\appdata\\local\\programs\\python\\python312\\lib\\site-packages (from openai->-r requirements.txt (line 2)) (0.25.2)\n",
      "Requirement already satisfied: pydantic<3,>=1.9.0 in c:\\users\\v2fftb\\appdata\\local\\programs\\python\\python312\\lib\\site-packages (from openai->-r requirements.txt (line 2)) (2.5.2)\n",
      "Requirement already satisfied: sniffio in c:\\users\\v2fftb\\appdata\\local\\programs\\python\\python312\\lib\\site-packages (from openai->-r requirements.txt (line 2)) (1.3.0)\n",
      "Requirement already satisfied: tqdm>4 in c:\\users\\v2fftb\\appdata\\local\\programs\\python\\python312\\lib\\site-packages (from openai->-r requirements.txt (line 2)) (4.66.1)\n",
      "Requirement already satisfied: typing-extensions<5,>=4.5 in c:\\users\\v2fftb\\appdata\\local\\programs\\python\\python312\\lib\\site-packages (from openai->-r requirements.txt (line 2)) (4.8.0)\n",
      "Requirement already satisfied: idna>=2.8 in c:\\users\\v2fftb\\appdata\\local\\programs\\python\\python312\\lib\\site-packages (from anyio<4,>=3.5.0->openai->-r requirements.txt (line 2)) (3.6)\n",
      "Requirement already satisfied: certifi in c:\\users\\v2fftb\\appdata\\local\\programs\\python\\python312\\lib\\site-packages (from httpx<1,>=0.23.0->openai->-r requirements.txt (line 2)) (2023.11.17)\n",
      "Requirement already satisfied: httpcore==1.* in c:\\users\\v2fftb\\appdata\\local\\programs\\python\\python312\\lib\\site-packages (from httpx<1,>=0.23.0->openai->-r requirements.txt (line 2)) (1.0.2)\n",
      "Requirement already satisfied: h11<0.15,>=0.13 in c:\\users\\v2fftb\\appdata\\local\\programs\\python\\python312\\lib\\site-packages (from httpcore==1.*->httpx<1,>=0.23.0->openai->-r requirements.txt (line 2)) (0.14.0)\n",
      "Requirement already satisfied: annotated-types>=0.4.0 in c:\\users\\v2fftb\\appdata\\local\\programs\\python\\python312\\lib\\site-packages (from pydantic<3,>=1.9.0->openai->-r requirements.txt (line 2)) (0.6.0)\n",
      "Requirement already satisfied: pydantic-core==2.14.5 in c:\\users\\v2fftb\\appdata\\local\\programs\\python\\python312\\lib\\site-packages (from pydantic<3,>=1.9.0->openai->-r requirements.txt (line 2)) (2.14.5)\n",
      "Requirement already satisfied: colorama in c:\\users\\v2fftb\\appdata\\roaming\\python\\python312\\site-packages (from tqdm>4->openai->-r requirements.txt (line 2)) (0.4.6)\n",
      "Note: you may need to restart the kernel to use updated packages.\n"
     ]
    }
   ],
   "source": [
    "%pip install -r requirements.txt"
   ]
  },
  {
   "cell_type": "code",
   "execution_count": 2,
   "metadata": {},
   "outputs": [
    {
     "name": "stdout",
     "output_type": "stream",
     "text": [
      "Pakistan\n"
     ]
    }
   ],
   "source": [
    "print(\"Pakistan\")"
   ]
  },
  {
   "cell_type": "code",
   "execution_count": 10,
   "metadata": {},
   "outputs": [],
   "source": [
    "from openai import OpenAI\n",
    "from dotenv import load_dotenv, find_dotenv\n",
    "import os\n",
    "\n",
    "_: bool = load_dotenv(find_dotenv())  # read local .env file\n",
    "\n",
    "client: OpenAI = OpenAI()"
   ]
  },
  {
   "cell_type": "code",
   "execution_count": 23,
   "metadata": {},
   "outputs": [
    {
     "name": "stdout",
     "output_type": "stream",
     "text": [
      "Collecting requests\n",
      "  Downloading requests-2.31.0-py3-none-any.whl.metadata (4.6 kB)\n",
      "Collecting charset-normalizer<4,>=2 (from requests)\n",
      "  Downloading charset_normalizer-3.3.2-cp312-cp312-win_amd64.whl.metadata (34 kB)\n",
      "Requirement already satisfied: idna<4,>=2.5 in c:\\users\\v2fftb\\appdata\\local\\programs\\python\\python312\\lib\\site-packages (from requests) (3.6)\n",
      "Collecting urllib3<3,>=1.21.1 (from requests)\n",
      "  Downloading urllib3-2.1.0-py3-none-any.whl.metadata (6.4 kB)\n",
      "Requirement already satisfied: certifi>=2017.4.17 in c:\\users\\v2fftb\\appdata\\local\\programs\\python\\python312\\lib\\site-packages (from requests) (2023.11.17)\n",
      "Downloading requests-2.31.0-py3-none-any.whl (62 kB)\n",
      "   ---------------------------------------- 0.0/62.6 kB ? eta -:--:--\n",
      "   ------------------- -------------------- 30.7/62.6 kB 1.3 MB/s eta 0:00:01\n",
      "   -------------------------- ------------- 41.0/62.6 kB 653.6 kB/s eta 0:00:01\n",
      "   ---------------------------------------- 62.6/62.6 kB 556.7 kB/s eta 0:00:00\n",
      "Downloading charset_normalizer-3.3.2-cp312-cp312-win_amd64.whl (100 kB)\n",
      "   ---------------------------------------- 0.0/100.4 kB ? eta -:--:--\n",
      "   ---------------- ----------------------- 41.0/100.4 kB 2.0 MB/s eta 0:00:01\n",
      "   ---------------- ----------------------- 41.0/100.4 kB 2.0 MB/s eta 0:00:01\n",
      "   ----------------------------------- --- 92.2/100.4 kB 655.4 kB/s eta 0:00:01\n",
      "   -------------------------------------- 100.4/100.4 kB 644.0 kB/s eta 0:00:00\n",
      "Downloading urllib3-2.1.0-py3-none-any.whl (104 kB)\n",
      "   ---------------------------------------- 0.0/104.6 kB ? eta -:--:--\n",
      "   --------------------------- ------------ 71.7/104.6 kB 2.0 MB/s eta 0:00:01\n",
      "   ---------------------------------------- 104.6/104.6 kB 2.0 MB/s eta 0:00:00\n",
      "Installing collected packages: urllib3, charset-normalizer, requests\n",
      "Successfully installed charset-normalizer-3.3.2 requests-2.31.0 urllib3-2.1.0\n",
      "Note: you may need to restart the kernel to use updated packages.\n"
     ]
    }
   ],
   "source": [
    "%pip install requests"
   ]
  },
  {
   "cell_type": "code",
   "execution_count": 15,
   "metadata": {},
   "outputs": [],
   "source": [
    "# Define financial statement functions\n",
    "import requests\n",
    "import json\n",
    "import os\n",
    "\n",
    "# Load environment variables from .env file\n",
    "from dotenv import load_dotenv\n",
    "\n",
    "load_dotenv()\n",
    "\n",
    "FMP_API_KEY = os.getenv(\"FMP_API_KEY\")\n",
    "\n",
    "\n",
    "def get_income_statement(ticker, period, limit):\n",
    "    url = f\"https://financialmodelingprep.com/api/v3/income-statement/{ticker}?period={period}&limit={limit}&apikey={FMP_API_KEY}\"\n",
    "    response = requests.get(url)\n",
    "    return json.dumps(response.json())\n",
    "\n",
    "\n",
    "def get_balance_sheet(ticker, period, limit):\n",
    "    return\n",
    "    # Code to fetch and return cash flow statement\n",
    "\n",
    "\n",
    "def get_cash_flow_statement(ticker, period, limit):\n",
    "    return\n",
    "    # Code to fetch and return cash flow statement\n",
    "\n",
    "\n",
    "def get_key_metrics(ticker, period, limit):\n",
    "    return\n",
    "    # Code to fetch and return cash flow statement\n",
    "\n",
    "\n",
    "def get_financial_ratios(ticker, period, limit):\n",
    "    return\n",
    "    # Code to fetch and return cash flow statement\n",
    "\n",
    "\n",
    "def get_financial_growth(ticker, period, limit):\n",
    "    return\n",
    "    # Code to fetch and return cash flow statement"
   ]
  },
  {
   "cell_type": "code",
   "execution_count": 14,
   "metadata": {},
   "outputs": [
    {
     "data": {
      "text/plain": [
       "'{\"Error Message\": \"Invalid API KEY. Feel free to create a Free API Key or visit https://site.financialmodelingprep.com/faqs?search=why-is-my-api-key-invalid for more information.\"}'"
      ]
     },
     "execution_count": 14,
     "metadata": {},
     "output_type": "execute_result"
    }
   ],
   "source": [
    "import os\n",
    "\n",
    "# Load environment variables from .env file\n",
    "from dotenv import load_dotenv\n",
    "\n",
    "load_dotenv()\n",
    "\n",
    "FMP_API_KEY = os.getenv(\"FMP_API_KEY\")\n",
    "url = f\"https://financialmodelingprep.com/api/v3/income-statement/as?period=as&limit=as&apikey={FMP_API_KEY}\"\n",
    "response = requests.get(url)\n",
    "json.dumps(response.json())"
   ]
  },
  {
   "cell_type": "code",
   "execution_count": 16,
   "metadata": {},
   "outputs": [],
   "source": [
    "# Map available functions\n",
    "available_functions = {\n",
    "    \"get_income_statement\": get_income_statement,\n",
    "    \"get_balance_sheet\": get_balance_sheet,\n",
    "    \"get_cash_flow_statement\": get_cash_flow_statement,\n",
    "    \"get_key_metrics\": get_key_metrics,\n",
    "    \"get_financial_ratios\": get_cash_flow_statement,\n",
    "    \"get_financial_growth\": get_financial_ratios,\n",
    "}"
   ]
  },
  {
   "cell_type": "code",
   "execution_count": 12,
   "metadata": {},
   "outputs": [],
   "source": [
    "import time\n",
    "from openai.types.beta import Assistant\n",
    "from openai.types.beta.thread import Thread\n",
    "from openai.types.beta.threads.thread_message import ThreadMessage\n",
    "from openai.types.beta.threads.run import Run\n",
    "\n",
    "\n",
    "# Define the main function\n",
    "def run_assistant(user_message):\n",
    "    # Creating an assistant with specific instructions and tools\n",
    "    assistant: Assistant = client.beta.assistants.create(\n",
    "        instructions=\"Act as a financial analyst by accessing detailed financial data through the Financial Modeling Prep API. Your capabilities include analyzing key metrics, comprehensive financial statements, vital financial ratios, and tracking financial growth trends. \",\n",
    "        model=\"gpt-4-1106-preview\",\n",
    "        tools=[\n",
    "            {\n",
    "                \"type\": \"function\",\n",
    "                \"function\": {\n",
    "                    \"name\": \"get_income_statement\",\n",
    "                    \"parameters\": {\n",
    "                        \"type\": \"object\",\n",
    "                        \"properties\": {\n",
    "                            \"ticker\": {\"type\": \"string\"},\n",
    "                            \"period\": {\"type\": \"string\"},\n",
    "                            \"limit\": {\"type\": \"integer\"},\n",
    "                        },\n",
    "                    },\n",
    "                },\n",
    "            },\n",
    "            # same for the rest of the financial functions\n",
    "        ],\n",
    "    )\n",
    "    thread: Thread = client.beta.threads.create()\n",
    "\n",
    "    # Adding a user message to the thread\n",
    "    message: ThreadMessage = client.beta.threads.messages.create(\n",
    "        thread_id=thread.id, role=\"user\", content=user_message\n",
    "    )\n",
    "\n",
    "    # Running the assistant on the created thread\n",
    "    run: Run = client.beta.threads.runs.create(\n",
    "        thread_id=thread.id, assistant_id=assistant.id\n",
    "    )\n",
    "\n",
    "    run: Run = client.beta.threads.runs.retrieve(thread_id=thread.id, run_id=run.id)\n",
    "\n",
    "    run_steps = client.beta.threads.runs.steps.list(thread_id=thread.id, run_id=run.id)\n",
    "    time.sleep(5)"
   ]
  },
  {
   "cell_type": "code",
   "execution_count": 17,
   "metadata": {},
   "outputs": [],
   "source": [
    "# Creating a new thread\n",
    "# Loop until the run completes or requires action\n",
    "\n",
    "import time\n",
    "import json\n",
    "from openai.types.beta import Assistant\n",
    "from openai.types.beta.thread import Thread\n",
    "from openai.types.beta.threads.thread_message import ThreadMessage\n",
    "from openai.types.beta.threads.run import Run\n",
    "\n",
    "\n",
    "# Define the main function\n",
    "def run_assistant(user_message):\n",
    "    # Creating an assistant with specific instructions and tools\n",
    "    assistant: Assistant = client.beta.assistants.create(\n",
    "        instructions=\"Act as a financial analyst by accessing detailed financial data through the Financial Modeling Prep API. Your capabilities include analyzing key metrics, comprehensive financial statements, vital financial ratios, and tracking financial growth trends. \",\n",
    "        model=\"gpt-3.5-turbo\",\n",
    "        tools=[\n",
    "            {\n",
    "                \"type\": \"function\",\n",
    "                \"function\": {\n",
    "                    \"name\": \"get_income_statement\",\n",
    "                    \"parameters\": {\n",
    "                        \"type\": \"object\",\n",
    "                        \"properties\": {\n",
    "                            \"ticker\": {\"type\": \"string\"},\n",
    "                            \"period\": {\"type\": \"string\"},\n",
    "                            \"limit\": {\"type\": \"integer\"},\n",
    "                        },\n",
    "                    },\n",
    "                },\n",
    "            },\n",
    "            # same for the rest of the financial functions\n",
    "        ],\n",
    "    )\n",
    "    thread: Thread = client.beta.threads.create()\n",
    "\n",
    "    # Adding a user message to the thread\n",
    "    message: ThreadMessage = client.beta.threads.messages.create(\n",
    "        thread_id=thread.id, role=\"user\", content=user_message\n",
    "    )\n",
    "\n",
    "    # Running the assistant on the created thread\n",
    "    run: Run = client.beta.threads.runs.create(\n",
    "        thread_id=thread.id, assistant_id=assistant.id\n",
    "    )\n",
    "\n",
    "    while True:\n",
    "        run: Run = client.beta.threads.runs.retrieve(thread_id=thread.id, run_id=run.id)\n",
    "\n",
    "        # Add run steps retrieval here\n",
    "        run_steps = client.beta.threads.runs.steps.list(\n",
    "            thread_id=thread.id, run_id=run.id\n",
    "        )\n",
    "        print(\"Run Steps:\", run_steps)\n",
    "\n",
    "        if run.status == \"requires_action\":\n",
    "            tool_calls = run.required_action.submit_tool_outputs.tool_calls\n",
    "            tool_outputs = []\n",
    "\n",
    "            for tool_call in tool_calls:\n",
    "                function_name = tool_call.function.name\n",
    "                function_args = json.loads(tool_call.function.arguments)\n",
    "\n",
    "                if function_name in available_functions:\n",
    "                    function_to_call = available_functions[function_name]\n",
    "                    output = function_to_call(**function_args)\n",
    "                    tool_outputs.append(\n",
    "                        {\n",
    "                            \"tool_call_id\": tool_call.id,\n",
    "                            \"output\": output,\n",
    "                        }\n",
    "                    )\n",
    "\n",
    "            # Submit tool outputs and update the run\n",
    "            client.beta.threads.runs.submit_tool_outputs(\n",
    "                thread_id=thread.id, run_id=run.id, tool_outputs=tool_outputs\n",
    "            )\n",
    "\n",
    "        elif run.status == \"completed\":\n",
    "            # List the messages to get the response\n",
    "            messages = client.beta.threads.messages.list(thread_id=thread.id)\n",
    "            for message in messages.data:\n",
    "                role_label = \"User\" if message.role == \"user\" else \"Assistant\"\n",
    "                message_content = message.content[0].text.value\n",
    "                print(f\"{role_label}: {message_content}\\n\")\n",
    "\n",
    "                for content in message.content:\n",
    "                    if content.type == \"text\":\n",
    "                        message_content = content.text.value\n",
    "                        print(f\"{role_label}: {message_content}\\n\")\n",
    "                    elif content.type == \"image_file\":\n",
    "                        # Handle image file content, e.g., print the file ID or download the image\n",
    "                        image_file_id = content.image_file.file_id\n",
    "                        # Define a path to save the image\n",
    "                        image_save_path = f\"./image_{image_file_id}.png\"\n",
    "                        # Download and save the image\n",
    "                        # download_and_save_image(image_file_id, image_save_path)\n",
    "            break  # Exit the loop after processing the completed run\n",
    "\n",
    "        elif run.status == \"failed\":\n",
    "            print(\"Run failed.\")\n",
    "            break\n",
    "\n",
    "        elif run.status in [\"in_progress\", \"queued\"]:\n",
    "            print(f\"Run is {run.status}. Waiting...\")\n",
    "            time.sleep(5)  # Wait for 5 seconds before checking again\n",
    "\n",
    "        else:\n",
    "            print(f\"Unexpected status: {run.status}\")\n",
    "            break"
   ]
  },
  {
   "cell_type": "code",
   "execution_count": 18,
   "metadata": {},
   "outputs": [
    {
     "name": "stdout",
     "output_type": "stream",
     "text": [
      "Run Steps: SyncCursorPage[RunStep](data=[], object='list', first_id=None, last_id=None, has_more=False)\n",
      "Run is in_progress. Waiting...\n",
      "Run Steps: SyncCursorPage[RunStep](data=[], object='list', first_id=None, last_id=None, has_more=False)\n",
      "Run is in_progress. Waiting...\n",
      "Run Steps: SyncCursorPage[RunStep](data=[], object='list', first_id=None, last_id=None, has_more=False)\n",
      "Run failed.\n"
     ]
    }
   ],
   "source": [
    "user_message: str = \"Can you compare the financial health of Microsoft and Apple over the last four years, focusing on their balance sheets and key financial ratios?\"\n",
    "\n",
    "run_assistant(user_message)"
   ]
  },
  {
   "cell_type": "code",
   "execution_count": null,
   "metadata": {},
   "outputs": [],
   "source": []
  }
 ],
 "metadata": {
  "kernelspec": {
   "display_name": "Python 3",
   "language": "python",
   "name": "python3"
  },
  "language_info": {
   "codemirror_mode": {
    "name": "ipython",
    "version": 3
   },
   "file_extension": ".py",
   "mimetype": "text/x-python",
   "name": "python",
   "nbconvert_exporter": "python",
   "pygments_lexer": "ipython3",
   "version": "3.12.0"
  }
 },
 "nbformat": 4,
 "nbformat_minor": 2
}
