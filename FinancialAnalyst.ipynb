{
 "cells": [
  {
   "cell_type": "code",
   "execution_count": 1,
   "metadata": {},
   "outputs": [
    {
     "name": "stdout",
     "output_type": "stream",
     "text": [
      "Requirement already satisfied: python-dotenv in c:\\users\\v2fftb\\appdata\\local\\programs\\python\\python312\\lib\\site-packages (from -r requirements.txt (line 1)) (1.0.0)\n",
      "Requirement already satisfied: openai in c:\\users\\v2fftb\\appdata\\local\\programs\\python\\python312\\lib\\site-packages (from -r requirements.txt (line 2)) (1.3.6)\n",
      "Requirement already satisfied: anyio<4,>=3.5.0 in c:\\users\\v2fftb\\appdata\\local\\programs\\python\\python312\\lib\\site-packages (from openai->-r requirements.txt (line 2)) (3.7.1)\n",
      "Requirement already satisfied: distro<2,>=1.7.0 in c:\\users\\v2fftb\\appdata\\local\\programs\\python\\python312\\lib\\site-packages (from openai->-r requirements.txt (line 2)) (1.8.0)\n",
      "Requirement already satisfied: httpx<1,>=0.23.0 in c:\\users\\v2fftb\\appdata\\local\\programs\\python\\python312\\lib\\site-packages (from openai->-r requirements.txt (line 2)) (0.25.2)\n",
      "Requirement already satisfied: pydantic<3,>=1.9.0 in c:\\users\\v2fftb\\appdata\\local\\programs\\python\\python312\\lib\\site-packages (from openai->-r requirements.txt (line 2)) (2.5.2)\n",
      "Requirement already satisfied: sniffio in c:\\users\\v2fftb\\appdata\\local\\programs\\python\\python312\\lib\\site-packages (from openai->-r requirements.txt (line 2)) (1.3.0)\n",
      "Requirement already satisfied: tqdm>4 in c:\\users\\v2fftb\\appdata\\local\\programs\\python\\python312\\lib\\site-packages (from openai->-r requirements.txt (line 2)) (4.66.1)\n",
      "Requirement already satisfied: typing-extensions<5,>=4.5 in c:\\users\\v2fftb\\appdata\\local\\programs\\python\\python312\\lib\\site-packages (from openai->-r requirements.txt (line 2)) (4.8.0)\n",
      "Requirement already satisfied: idna>=2.8 in c:\\users\\v2fftb\\appdata\\local\\programs\\python\\python312\\lib\\site-packages (from anyio<4,>=3.5.0->openai->-r requirements.txt (line 2)) (3.6)\n",
      "Requirement already satisfied: certifi in c:\\users\\v2fftb\\appdata\\local\\programs\\python\\python312\\lib\\site-packages (from httpx<1,>=0.23.0->openai->-r requirements.txt (line 2)) (2023.11.17)\n",
      "Requirement already satisfied: httpcore==1.* in c:\\users\\v2fftb\\appdata\\local\\programs\\python\\python312\\lib\\site-packages (from httpx<1,>=0.23.0->openai->-r requirements.txt (line 2)) (1.0.2)\n",
      "Requirement already satisfied: h11<0.15,>=0.13 in c:\\users\\v2fftb\\appdata\\local\\programs\\python\\python312\\lib\\site-packages (from httpcore==1.*->httpx<1,>=0.23.0->openai->-r requirements.txt (line 2)) (0.14.0)\n",
      "Requirement already satisfied: annotated-types>=0.4.0 in c:\\users\\v2fftb\\appdata\\local\\programs\\python\\python312\\lib\\site-packages (from pydantic<3,>=1.9.0->openai->-r requirements.txt (line 2)) (0.6.0)\n",
      "Requirement already satisfied: pydantic-core==2.14.5 in c:\\users\\v2fftb\\appdata\\local\\programs\\python\\python312\\lib\\site-packages (from pydantic<3,>=1.9.0->openai->-r requirements.txt (line 2)) (2.14.5)\n",
      "Requirement already satisfied: colorama in c:\\users\\v2fftb\\appdata\\roaming\\python\\python312\\site-packages (from tqdm>4->openai->-r requirements.txt (line 2)) (0.4.6)\n",
      "Note: you may need to restart the kernel to use updated packages.\n"
     ]
    }
   ],
   "source": [
    "%pip install -r requirements.txt"
   ]
  },
  {
   "cell_type": "code",
   "execution_count": 2,
   "metadata": {},
   "outputs": [
    {
     "name": "stdout",
     "output_type": "stream",
     "text": [
      "Pakistan\n"
     ]
    }
   ],
   "source": [
    "print(\"Pakistan\")"
   ]
  },
  {
   "cell_type": "code",
   "execution_count": 3,
   "metadata": {},
   "outputs": [],
   "source": [
    "from openai import OpenAI\n",
    "from dotenv import load_dotenv, find_dotenv\n",
    "import os\n",
    "\n",
    "_: bool = load_dotenv(find_dotenv())  # read local .env file\n",
    "\n",
    "client: OpenAI = OpenAI()"
   ]
  },
  {
   "cell_type": "code",
   "execution_count": 4,
   "metadata": {},
   "outputs": [
    {
     "name": "stdout",
     "output_type": "stream",
     "text": [
      "Requirement already satisfied: requests in c:\\users\\v2fftb\\appdata\\local\\programs\\python\\python312\\lib\\site-packages (2.31.0)\n",
      "Requirement already satisfied: charset-normalizer<4,>=2 in c:\\users\\v2fftb\\appdata\\local\\programs\\python\\python312\\lib\\site-packages (from requests) (3.3.2)\n",
      "Requirement already satisfied: idna<4,>=2.5 in c:\\users\\v2fftb\\appdata\\local\\programs\\python\\python312\\lib\\site-packages (from requests) (3.6)\n",
      "Requirement already satisfied: urllib3<3,>=1.21.1 in c:\\users\\v2fftb\\appdata\\local\\programs\\python\\python312\\lib\\site-packages (from requests) (2.1.0)\n",
      "Requirement already satisfied: certifi>=2017.4.17 in c:\\users\\v2fftb\\appdata\\local\\programs\\python\\python312\\lib\\site-packages (from requests) (2023.11.17)\n",
      "Note: you may need to restart the kernel to use updated packages.\n"
     ]
    }
   ],
   "source": [
    "%pip install requests"
   ]
  },
  {
   "cell_type": "code",
   "execution_count": 35,
   "metadata": {},
   "outputs": [],
   "source": [
    "# Define financial statement functions\n",
    "import requests\n",
    "import json\n",
    "import os\n",
    "\n",
    "# Load environment variables from .env file\n",
    "from dotenv import load_dotenv\n",
    "\n",
    "load_dotenv()\n",
    "\n",
    "FMP_API_KEY = os.getenv(\"FMP_API_KEY\")\n",
    "\n",
    "\n",
    "def get_income_statement(ticker, period, limit):\n",
    "    url = f\"https://financialmodelingprep.com/api/v3/income-statement/{ticker}?period={period}&limit={limit}&apikey={FMP_API_KEY}\"\n",
    "    url2 = f\"https://financialmodelingprep.com/api/v3/income-statement/AAPL?period=annual&apikey={FMP_API_KEY}\"\n",
    "    print(url)\n",
    "    response = requests.get(url2)\n",
    "    print(json.dumps(response.json()))\n",
    "    return json.dumps(response.json())\n",
    "\n",
    "\n",
    "def get_balance_sheet(ticker, period, limit):\n",
    "    return\n",
    "    # Code to fetch and return cash flow statement\n",
    "\n",
    "\n",
    "def get_cash_flow_statement(ticker, period, limit):\n",
    "    return\n",
    "    # Code to fetch and return cash flow statement\n",
    "\n",
    "\n",
    "def get_key_metrics(ticker, period, limit):\n",
    "    return\n",
    "    # Code to fetch and return cash flow statement\n",
    "\n",
    "\n",
    "def get_financial_ratios(ticker, period, limit):\n",
    "    return\n",
    "    # Code to fetch and return cash flow statement\n",
    "\n",
    "\n",
    "def get_financial_growth(ticker, period, limit):\n",
    "    return\n",
    "    # Code to fetch and return cash flow statement"
   ]
  },
  {
   "cell_type": "code",
   "execution_count": 31,
   "metadata": {},
   "outputs": [
    {
     "name": "stdout",
     "output_type": "stream",
     "text": [
      "https://financialmodelingprep.com/api/v3/income-statement/AAPL?period=annual&limit=4&apikey=z0243IQXdOQFBGOxPoIrTtSsfdW5Rplm\n",
      "[{\"date\": \"2023-09-30\", \"symbol\": \"AAPL\", \"reportedCurrency\": \"USD\", \"cik\": \"0000320193\", \"fillingDate\": \"2023-11-03\", \"acceptedDate\": \"2023-11-02 18:08:27\", \"calendarYear\": \"2023\", \"period\": \"FY\", \"revenue\": 383285000000, \"costOfRevenue\": 214137000000, \"grossProfit\": 169148000000, \"grossProfitRatio\": 0.4413112958, \"researchAndDevelopmentExpenses\": 29915000000, \"generalAndAdministrativeExpenses\": 0, \"sellingAndMarketingExpenses\": 0, \"sellingGeneralAndAdministrativeExpenses\": 24932000000, \"otherExpenses\": -565000000, \"operatingExpenses\": 54847000000, \"costAndExpenses\": 268984000000, \"interestIncome\": 3750000000, \"interestExpense\": 3933000000, \"depreciationAndAmortization\": 11519000000, \"ebitda\": 125820000000, \"ebitdaratio\": 0.3282674772, \"operatingIncome\": 114301000000, \"operatingIncomeRatio\": 0.2982141227, \"totalOtherIncomeExpensesNet\": -565000000, \"incomeBeforeTax\": 113736000000, \"incomeBeforeTaxRatio\": 0.2967400237, \"incomeTaxExpense\": 16741000000, \"netIncome\": 96995000000, \"netIncomeRatio\": 0.2530623426, \"eps\": 6.16, \"epsdiluted\": 6.13, \"weightedAverageShsOut\": 15744231000, \"weightedAverageShsOutDil\": 15812547000, \"link\": \"https://www.sec.gov/Archives/edgar/data/320193/000032019323000106/0000320193-23-000106-index.htm\", \"finalLink\": \"https://www.sec.gov/Archives/edgar/data/320193/000032019323000106/aapl-20230930.htm\"}, {\"date\": \"2022-09-24\", \"symbol\": \"AAPL\", \"reportedCurrency\": \"USD\", \"cik\": \"0000320193\", \"fillingDate\": \"2022-10-28\", \"acceptedDate\": \"2022-10-27 18:01:14\", \"calendarYear\": \"2022\", \"period\": \"FY\", \"revenue\": 394328000000, \"costOfRevenue\": 223546000000, \"grossProfit\": 170782000000, \"grossProfitRatio\": 0.4330963056, \"researchAndDevelopmentExpenses\": 26251000000, \"generalAndAdministrativeExpenses\": 0, \"sellingAndMarketingExpenses\": 0, \"sellingGeneralAndAdministrativeExpenses\": 25094000000, \"otherExpenses\": -334000000, \"operatingExpenses\": 51345000000, \"costAndExpenses\": 274891000000, \"interestIncome\": 2825000000, \"interestExpense\": 2931000000, \"depreciationAndAmortization\": 11104000000, \"ebitda\": 130541000000, \"ebitdaratio\": 0.3310467428, \"operatingIncome\": 119437000000, \"operatingIncomeRatio\": 0.302887444, \"totalOtherIncomeExpensesNet\": -334000000, \"incomeBeforeTax\": 119103000000, \"incomeBeforeTaxRatio\": 0.3020404333, \"incomeTaxExpense\": 19300000000, \"netIncome\": 99803000000, \"netIncomeRatio\": 0.2530964071, \"eps\": 6.15, \"epsdiluted\": 6.11, \"weightedAverageShsOut\": 16215963000, \"weightedAverageShsOutDil\": 16325819000, \"link\": \"https://www.sec.gov/Archives/edgar/data/320193/000032019322000108/0000320193-22-000108-index.htm\", \"finalLink\": \"https://www.sec.gov/Archives/edgar/data/320193/000032019322000108/aapl-20220924.htm\"}, {\"date\": \"2021-09-25\", \"symbol\": \"AAPL\", \"reportedCurrency\": \"USD\", \"cik\": \"0000320193\", \"fillingDate\": \"2021-10-29\", \"acceptedDate\": \"2021-10-28 18:04:28\", \"calendarYear\": \"2021\", \"period\": \"FY\", \"revenue\": 365817000000, \"costOfRevenue\": 212981000000, \"grossProfit\": 152836000000, \"grossProfitRatio\": 0.4177935963, \"researchAndDevelopmentExpenses\": 21914000000, \"generalAndAdministrativeExpenses\": 0, \"sellingAndMarketingExpenses\": 0, \"sellingGeneralAndAdministrativeExpenses\": 21973000000, \"otherExpenses\": 258000000, \"operatingExpenses\": 43887000000, \"costAndExpenses\": 256868000000, \"interestIncome\": 2843000000, \"interestExpense\": 2645000000, \"depreciationAndAmortization\": 11284000000, \"ebitda\": 120233000000, \"ebitdaratio\": 0.3286697994, \"operatingIncome\": 108949000000, \"operatingIncomeRatio\": 0.2978237753, \"totalOtherIncomeExpensesNet\": 258000000, \"incomeBeforeTax\": 109207000000, \"incomeBeforeTaxRatio\": 0.2985290459, \"incomeTaxExpense\": 14527000000, \"netIncome\": 94680000000, \"netIncomeRatio\": 0.2588179336, \"eps\": 5.67, \"epsdiluted\": 5.61, \"weightedAverageShsOut\": 16701272000, \"weightedAverageShsOutDil\": 16864919000, \"link\": \"https://www.sec.gov/Archives/edgar/data/320193/000032019321000105/0000320193-21-000105-index.htm\", \"finalLink\": \"https://www.sec.gov/Archives/edgar/data/320193/000032019321000105/aapl-20210925.htm\"}, {\"date\": \"2020-09-26\", \"symbol\": \"AAPL\", \"reportedCurrency\": \"USD\", \"cik\": \"0000320193\", \"fillingDate\": \"2020-10-30\", \"acceptedDate\": \"2020-10-29 18:06:25\", \"calendarYear\": \"2020\", \"period\": \"FY\", \"revenue\": 274515000000, \"costOfRevenue\": 169559000000, \"grossProfit\": 104956000000, \"grossProfitRatio\": 0.3823324773, \"researchAndDevelopmentExpenses\": 18752000000, \"generalAndAdministrativeExpenses\": 0, \"sellingAndMarketingExpenses\": 0, \"sellingGeneralAndAdministrativeExpenses\": 19916000000, \"otherExpenses\": 803000000, \"operatingExpenses\": 38668000000, \"costAndExpenses\": 208227000000, \"interestIncome\": 3763000000, \"interestExpense\": 2873000000, \"depreciationAndAmortization\": 11056000000, \"ebitda\": 77344000000, \"ebitdaratio\": 0.2817478098, \"operatingIncome\": 66288000000, \"operatingIncomeRatio\": 0.2414731435, \"totalOtherIncomeExpensesNet\": 803000000, \"incomeBeforeTax\": 67091000000, \"incomeBeforeTaxRatio\": 0.2443983025, \"incomeTaxExpense\": 9680000000, \"netIncome\": 57411000000, \"netIncomeRatio\": 0.2091361128, \"eps\": 3.31, \"epsdiluted\": 3.28, \"weightedAverageShsOut\": 17352119000, \"weightedAverageShsOutDil\": 17528214000, \"link\": \"https://www.sec.gov/Archives/edgar/data/320193/000032019320000096/0000320193-20-000096-index.htm\", \"finalLink\": \"https://www.sec.gov/Archives/edgar/data/320193/000032019320000096/aapl-20200926.htm\"}, {\"date\": \"2019-09-28\", \"symbol\": \"AAPL\", \"reportedCurrency\": \"USD\", \"cik\": \"0000320193\", \"fillingDate\": \"2019-10-31\", \"acceptedDate\": \"2019-10-30 18:12:36\", \"calendarYear\": \"2019\", \"period\": \"FY\", \"revenue\": 260174000000, \"costOfRevenue\": 161782000000, \"grossProfit\": 98392000000, \"grossProfitRatio\": 0.3781776811, \"researchAndDevelopmentExpenses\": 16217000000, \"generalAndAdministrativeExpenses\": 0, \"sellingAndMarketingExpenses\": 0, \"sellingGeneralAndAdministrativeExpenses\": 18245000000, \"otherExpenses\": 1807000000, \"operatingExpenses\": 34462000000, \"costAndExpenses\": 196244000000, \"interestIncome\": 4961000000, \"interestExpense\": 3576000000, \"depreciationAndAmortization\": 12547000000, \"ebitda\": 76477000000, \"ebitdaratio\": 0.2939455903, \"operatingIncome\": 63930000000, \"operatingIncomeRatio\": 0.2457201719, \"totalOtherIncomeExpensesNet\": 1807000000, \"incomeBeforeTax\": 65737000000, \"incomeBeforeTaxRatio\": 0.2526655238, \"incomeTaxExpense\": 10481000000, \"netIncome\": 55256000000, \"netIncomeRatio\": 0.2123809451, \"eps\": 2.99, \"epsdiluted\": 2.97, \"weightedAverageShsOut\": 18471336000, \"weightedAverageShsOutDil\": 18595652000, \"link\": \"https://www.sec.gov/Archives/edgar/data/320193/000032019319000119/0000320193-19-000119-index.htm\", \"finalLink\": \"https://www.sec.gov/Archives/edgar/data/320193/000032019319000119/a10-k20199282019.htm\"}]\n"
     ]
    },
    {
     "data": {
      "text/plain": [
       "'[{\"date\": \"2023-09-30\", \"symbol\": \"AAPL\", \"reportedCurrency\": \"USD\", \"cik\": \"0000320193\", \"fillingDate\": \"2023-11-03\", \"acceptedDate\": \"2023-11-02 18:08:27\", \"calendarYear\": \"2023\", \"period\": \"FY\", \"revenue\": 383285000000, \"costOfRevenue\": 214137000000, \"grossProfit\": 169148000000, \"grossProfitRatio\": 0.4413112958, \"researchAndDevelopmentExpenses\": 29915000000, \"generalAndAdministrativeExpenses\": 0, \"sellingAndMarketingExpenses\": 0, \"sellingGeneralAndAdministrativeExpenses\": 24932000000, \"otherExpenses\": -565000000, \"operatingExpenses\": 54847000000, \"costAndExpenses\": 268984000000, \"interestIncome\": 3750000000, \"interestExpense\": 3933000000, \"depreciationAndAmortization\": 11519000000, \"ebitda\": 125820000000, \"ebitdaratio\": 0.3282674772, \"operatingIncome\": 114301000000, \"operatingIncomeRatio\": 0.2982141227, \"totalOtherIncomeExpensesNet\": -565000000, \"incomeBeforeTax\": 113736000000, \"incomeBeforeTaxRatio\": 0.2967400237, \"incomeTaxExpense\": 16741000000, \"netIncome\": 96995000000, \"netIncomeRatio\": 0.2530623426, \"eps\": 6.16, \"epsdiluted\": 6.13, \"weightedAverageShsOut\": 15744231000, \"weightedAverageShsOutDil\": 15812547000, \"link\": \"https://www.sec.gov/Archives/edgar/data/320193/000032019323000106/0000320193-23-000106-index.htm\", \"finalLink\": \"https://www.sec.gov/Archives/edgar/data/320193/000032019323000106/aapl-20230930.htm\"}, {\"date\": \"2022-09-24\", \"symbol\": \"AAPL\", \"reportedCurrency\": \"USD\", \"cik\": \"0000320193\", \"fillingDate\": \"2022-10-28\", \"acceptedDate\": \"2022-10-27 18:01:14\", \"calendarYear\": \"2022\", \"period\": \"FY\", \"revenue\": 394328000000, \"costOfRevenue\": 223546000000, \"grossProfit\": 170782000000, \"grossProfitRatio\": 0.4330963056, \"researchAndDevelopmentExpenses\": 26251000000, \"generalAndAdministrativeExpenses\": 0, \"sellingAndMarketingExpenses\": 0, \"sellingGeneralAndAdministrativeExpenses\": 25094000000, \"otherExpenses\": -334000000, \"operatingExpenses\": 51345000000, \"costAndExpenses\": 274891000000, \"interestIncome\": 2825000000, \"interestExpense\": 2931000000, \"depreciationAndAmortization\": 11104000000, \"ebitda\": 130541000000, \"ebitdaratio\": 0.3310467428, \"operatingIncome\": 119437000000, \"operatingIncomeRatio\": 0.302887444, \"totalOtherIncomeExpensesNet\": -334000000, \"incomeBeforeTax\": 119103000000, \"incomeBeforeTaxRatio\": 0.3020404333, \"incomeTaxExpense\": 19300000000, \"netIncome\": 99803000000, \"netIncomeRatio\": 0.2530964071, \"eps\": 6.15, \"epsdiluted\": 6.11, \"weightedAverageShsOut\": 16215963000, \"weightedAverageShsOutDil\": 16325819000, \"link\": \"https://www.sec.gov/Archives/edgar/data/320193/000032019322000108/0000320193-22-000108-index.htm\", \"finalLink\": \"https://www.sec.gov/Archives/edgar/data/320193/000032019322000108/aapl-20220924.htm\"}, {\"date\": \"2021-09-25\", \"symbol\": \"AAPL\", \"reportedCurrency\": \"USD\", \"cik\": \"0000320193\", \"fillingDate\": \"2021-10-29\", \"acceptedDate\": \"2021-10-28 18:04:28\", \"calendarYear\": \"2021\", \"period\": \"FY\", \"revenue\": 365817000000, \"costOfRevenue\": 212981000000, \"grossProfit\": 152836000000, \"grossProfitRatio\": 0.4177935963, \"researchAndDevelopmentExpenses\": 21914000000, \"generalAndAdministrativeExpenses\": 0, \"sellingAndMarketingExpenses\": 0, \"sellingGeneralAndAdministrativeExpenses\": 21973000000, \"otherExpenses\": 258000000, \"operatingExpenses\": 43887000000, \"costAndExpenses\": 256868000000, \"interestIncome\": 2843000000, \"interestExpense\": 2645000000, \"depreciationAndAmortization\": 11284000000, \"ebitda\": 120233000000, \"ebitdaratio\": 0.3286697994, \"operatingIncome\": 108949000000, \"operatingIncomeRatio\": 0.2978237753, \"totalOtherIncomeExpensesNet\": 258000000, \"incomeBeforeTax\": 109207000000, \"incomeBeforeTaxRatio\": 0.2985290459, \"incomeTaxExpense\": 14527000000, \"netIncome\": 94680000000, \"netIncomeRatio\": 0.2588179336, \"eps\": 5.67, \"epsdiluted\": 5.61, \"weightedAverageShsOut\": 16701272000, \"weightedAverageShsOutDil\": 16864919000, \"link\": \"https://www.sec.gov/Archives/edgar/data/320193/000032019321000105/0000320193-21-000105-index.htm\", \"finalLink\": \"https://www.sec.gov/Archives/edgar/data/320193/000032019321000105/aapl-20210925.htm\"}, {\"date\": \"2020-09-26\", \"symbol\": \"AAPL\", \"reportedCurrency\": \"USD\", \"cik\": \"0000320193\", \"fillingDate\": \"2020-10-30\", \"acceptedDate\": \"2020-10-29 18:06:25\", \"calendarYear\": \"2020\", \"period\": \"FY\", \"revenue\": 274515000000, \"costOfRevenue\": 169559000000, \"grossProfit\": 104956000000, \"grossProfitRatio\": 0.3823324773, \"researchAndDevelopmentExpenses\": 18752000000, \"generalAndAdministrativeExpenses\": 0, \"sellingAndMarketingExpenses\": 0, \"sellingGeneralAndAdministrativeExpenses\": 19916000000, \"otherExpenses\": 803000000, \"operatingExpenses\": 38668000000, \"costAndExpenses\": 208227000000, \"interestIncome\": 3763000000, \"interestExpense\": 2873000000, \"depreciationAndAmortization\": 11056000000, \"ebitda\": 77344000000, \"ebitdaratio\": 0.2817478098, \"operatingIncome\": 66288000000, \"operatingIncomeRatio\": 0.2414731435, \"totalOtherIncomeExpensesNet\": 803000000, \"incomeBeforeTax\": 67091000000, \"incomeBeforeTaxRatio\": 0.2443983025, \"incomeTaxExpense\": 9680000000, \"netIncome\": 57411000000, \"netIncomeRatio\": 0.2091361128, \"eps\": 3.31, \"epsdiluted\": 3.28, \"weightedAverageShsOut\": 17352119000, \"weightedAverageShsOutDil\": 17528214000, \"link\": \"https://www.sec.gov/Archives/edgar/data/320193/000032019320000096/0000320193-20-000096-index.htm\", \"finalLink\": \"https://www.sec.gov/Archives/edgar/data/320193/000032019320000096/aapl-20200926.htm\"}, {\"date\": \"2019-09-28\", \"symbol\": \"AAPL\", \"reportedCurrency\": \"USD\", \"cik\": \"0000320193\", \"fillingDate\": \"2019-10-31\", \"acceptedDate\": \"2019-10-30 18:12:36\", \"calendarYear\": \"2019\", \"period\": \"FY\", \"revenue\": 260174000000, \"costOfRevenue\": 161782000000, \"grossProfit\": 98392000000, \"grossProfitRatio\": 0.3781776811, \"researchAndDevelopmentExpenses\": 16217000000, \"generalAndAdministrativeExpenses\": 0, \"sellingAndMarketingExpenses\": 0, \"sellingGeneralAndAdministrativeExpenses\": 18245000000, \"otherExpenses\": 1807000000, \"operatingExpenses\": 34462000000, \"costAndExpenses\": 196244000000, \"interestIncome\": 4961000000, \"interestExpense\": 3576000000, \"depreciationAndAmortization\": 12547000000, \"ebitda\": 76477000000, \"ebitdaratio\": 0.2939455903, \"operatingIncome\": 63930000000, \"operatingIncomeRatio\": 0.2457201719, \"totalOtherIncomeExpensesNet\": 1807000000, \"incomeBeforeTax\": 65737000000, \"incomeBeforeTaxRatio\": 0.2526655238, \"incomeTaxExpense\": 10481000000, \"netIncome\": 55256000000, \"netIncomeRatio\": 0.2123809451, \"eps\": 2.99, \"epsdiluted\": 2.97, \"weightedAverageShsOut\": 18471336000, \"weightedAverageShsOutDil\": 18595652000, \"link\": \"https://www.sec.gov/Archives/edgar/data/320193/000032019319000119/0000320193-19-000119-index.htm\", \"finalLink\": \"https://www.sec.gov/Archives/edgar/data/320193/000032019319000119/a10-k20199282019.htm\"}]'"
      ]
     },
     "execution_count": 31,
     "metadata": {},
     "output_type": "execute_result"
    }
   ],
   "source": [
    "get_income_statement('AAPL', 'annual', '4')"
   ]
  },
  {
   "cell_type": "code",
   "execution_count": 20,
   "metadata": {},
   "outputs": [
    {
     "data": {
      "text/plain": [
       "'[{\"date\": \"2023-09-30\", \"symbol\": \"AAPL\", \"reportedCurrency\": \"USD\", \"cik\": \"0000320193\", \"fillingDate\": \"2023-11-03\", \"acceptedDate\": \"2023-11-02 18:08:27\", \"calendarYear\": \"2023\", \"period\": \"FY\", \"revenue\": 383285000000, \"costOfRevenue\": 214137000000, \"grossProfit\": 169148000000, \"grossProfitRatio\": 0.4413112958, \"researchAndDevelopmentExpenses\": 29915000000, \"generalAndAdministrativeExpenses\": 0, \"sellingAndMarketingExpenses\": 0, \"sellingGeneralAndAdministrativeExpenses\": 24932000000, \"otherExpenses\": -565000000, \"operatingExpenses\": 54847000000, \"costAndExpenses\": 268984000000, \"interestIncome\": 3750000000, \"interestExpense\": 3933000000, \"depreciationAndAmortization\": 11519000000, \"ebitda\": 125820000000, \"ebitdaratio\": 0.3282674772, \"operatingIncome\": 114301000000, \"operatingIncomeRatio\": 0.2982141227, \"totalOtherIncomeExpensesNet\": -565000000, \"incomeBeforeTax\": 113736000000, \"incomeBeforeTaxRatio\": 0.2967400237, \"incomeTaxExpense\": 16741000000, \"netIncome\": 96995000000, \"netIncomeRatio\": 0.2530623426, \"eps\": 6.16, \"epsdiluted\": 6.13, \"weightedAverageShsOut\": 15744231000, \"weightedAverageShsOutDil\": 15812547000, \"link\": \"https://www.sec.gov/Archives/edgar/data/320193/000032019323000106/0000320193-23-000106-index.htm\", \"finalLink\": \"https://www.sec.gov/Archives/edgar/data/320193/000032019323000106/aapl-20230930.htm\"}, {\"date\": \"2022-09-24\", \"symbol\": \"AAPL\", \"reportedCurrency\": \"USD\", \"cik\": \"0000320193\", \"fillingDate\": \"2022-10-28\", \"acceptedDate\": \"2022-10-27 18:01:14\", \"calendarYear\": \"2022\", \"period\": \"FY\", \"revenue\": 394328000000, \"costOfRevenue\": 223546000000, \"grossProfit\": 170782000000, \"grossProfitRatio\": 0.4330963056, \"researchAndDevelopmentExpenses\": 26251000000, \"generalAndAdministrativeExpenses\": 0, \"sellingAndMarketingExpenses\": 0, \"sellingGeneralAndAdministrativeExpenses\": 25094000000, \"otherExpenses\": -334000000, \"operatingExpenses\": 51345000000, \"costAndExpenses\": 274891000000, \"interestIncome\": 2825000000, \"interestExpense\": 2931000000, \"depreciationAndAmortization\": 11104000000, \"ebitda\": 130541000000, \"ebitdaratio\": 0.3310467428, \"operatingIncome\": 119437000000, \"operatingIncomeRatio\": 0.302887444, \"totalOtherIncomeExpensesNet\": -334000000, \"incomeBeforeTax\": 119103000000, \"incomeBeforeTaxRatio\": 0.3020404333, \"incomeTaxExpense\": 19300000000, \"netIncome\": 99803000000, \"netIncomeRatio\": 0.2530964071, \"eps\": 6.15, \"epsdiluted\": 6.11, \"weightedAverageShsOut\": 16215963000, \"weightedAverageShsOutDil\": 16325819000, \"link\": \"https://www.sec.gov/Archives/edgar/data/320193/000032019322000108/0000320193-22-000108-index.htm\", \"finalLink\": \"https://www.sec.gov/Archives/edgar/data/320193/000032019322000108/aapl-20220924.htm\"}, {\"date\": \"2021-09-25\", \"symbol\": \"AAPL\", \"reportedCurrency\": \"USD\", \"cik\": \"0000320193\", \"fillingDate\": \"2021-10-29\", \"acceptedDate\": \"2021-10-28 18:04:28\", \"calendarYear\": \"2021\", \"period\": \"FY\", \"revenue\": 365817000000, \"costOfRevenue\": 212981000000, \"grossProfit\": 152836000000, \"grossProfitRatio\": 0.4177935963, \"researchAndDevelopmentExpenses\": 21914000000, \"generalAndAdministrativeExpenses\": 0, \"sellingAndMarketingExpenses\": 0, \"sellingGeneralAndAdministrativeExpenses\": 21973000000, \"otherExpenses\": 258000000, \"operatingExpenses\": 43887000000, \"costAndExpenses\": 256868000000, \"interestIncome\": 2843000000, \"interestExpense\": 2645000000, \"depreciationAndAmortization\": 11284000000, \"ebitda\": 120233000000, \"ebitdaratio\": 0.3286697994, \"operatingIncome\": 108949000000, \"operatingIncomeRatio\": 0.2978237753, \"totalOtherIncomeExpensesNet\": 258000000, \"incomeBeforeTax\": 109207000000, \"incomeBeforeTaxRatio\": 0.2985290459, \"incomeTaxExpense\": 14527000000, \"netIncome\": 94680000000, \"netIncomeRatio\": 0.2588179336, \"eps\": 5.67, \"epsdiluted\": 5.61, \"weightedAverageShsOut\": 16701272000, \"weightedAverageShsOutDil\": 16864919000, \"link\": \"https://www.sec.gov/Archives/edgar/data/320193/000032019321000105/0000320193-21-000105-index.htm\", \"finalLink\": \"https://www.sec.gov/Archives/edgar/data/320193/000032019321000105/aapl-20210925.htm\"}, {\"date\": \"2020-09-26\", \"symbol\": \"AAPL\", \"reportedCurrency\": \"USD\", \"cik\": \"0000320193\", \"fillingDate\": \"2020-10-30\", \"acceptedDate\": \"2020-10-29 18:06:25\", \"calendarYear\": \"2020\", \"period\": \"FY\", \"revenue\": 274515000000, \"costOfRevenue\": 169559000000, \"grossProfit\": 104956000000, \"grossProfitRatio\": 0.3823324773, \"researchAndDevelopmentExpenses\": 18752000000, \"generalAndAdministrativeExpenses\": 0, \"sellingAndMarketingExpenses\": 0, \"sellingGeneralAndAdministrativeExpenses\": 19916000000, \"otherExpenses\": 803000000, \"operatingExpenses\": 38668000000, \"costAndExpenses\": 208227000000, \"interestIncome\": 3763000000, \"interestExpense\": 2873000000, \"depreciationAndAmortization\": 11056000000, \"ebitda\": 77344000000, \"ebitdaratio\": 0.2817478098, \"operatingIncome\": 66288000000, \"operatingIncomeRatio\": 0.2414731435, \"totalOtherIncomeExpensesNet\": 803000000, \"incomeBeforeTax\": 67091000000, \"incomeBeforeTaxRatio\": 0.2443983025, \"incomeTaxExpense\": 9680000000, \"netIncome\": 57411000000, \"netIncomeRatio\": 0.2091361128, \"eps\": 3.31, \"epsdiluted\": 3.28, \"weightedAverageShsOut\": 17352119000, \"weightedAverageShsOutDil\": 17528214000, \"link\": \"https://www.sec.gov/Archives/edgar/data/320193/000032019320000096/0000320193-20-000096-index.htm\", \"finalLink\": \"https://www.sec.gov/Archives/edgar/data/320193/000032019320000096/aapl-20200926.htm\"}, {\"date\": \"2019-09-28\", \"symbol\": \"AAPL\", \"reportedCurrency\": \"USD\", \"cik\": \"0000320193\", \"fillingDate\": \"2019-10-31\", \"acceptedDate\": \"2019-10-30 18:12:36\", \"calendarYear\": \"2019\", \"period\": \"FY\", \"revenue\": 260174000000, \"costOfRevenue\": 161782000000, \"grossProfit\": 98392000000, \"grossProfitRatio\": 0.3781776811, \"researchAndDevelopmentExpenses\": 16217000000, \"generalAndAdministrativeExpenses\": 0, \"sellingAndMarketingExpenses\": 0, \"sellingGeneralAndAdministrativeExpenses\": 18245000000, \"otherExpenses\": 1807000000, \"operatingExpenses\": 34462000000, \"costAndExpenses\": 196244000000, \"interestIncome\": 4961000000, \"interestExpense\": 3576000000, \"depreciationAndAmortization\": 12547000000, \"ebitda\": 76477000000, \"ebitdaratio\": 0.2939455903, \"operatingIncome\": 63930000000, \"operatingIncomeRatio\": 0.2457201719, \"totalOtherIncomeExpensesNet\": 1807000000, \"incomeBeforeTax\": 65737000000, \"incomeBeforeTaxRatio\": 0.2526655238, \"incomeTaxExpense\": 10481000000, \"netIncome\": 55256000000, \"netIncomeRatio\": 0.2123809451, \"eps\": 2.99, \"epsdiluted\": 2.97, \"weightedAverageShsOut\": 18471336000, \"weightedAverageShsOutDil\": 18595652000, \"link\": \"https://www.sec.gov/Archives/edgar/data/320193/000032019319000119/0000320193-19-000119-index.htm\", \"finalLink\": \"https://www.sec.gov/Archives/edgar/data/320193/000032019319000119/a10-k20199282019.htm\"}]'"
      ]
     },
     "execution_count": 20,
     "metadata": {},
     "output_type": "execute_result"
    }
   ],
   "source": [
    "import os\n",
    "\n",
    "# Load environment variables from .env file\n",
    "from dotenv import load_dotenv\n",
    "\n",
    "load_dotenv()\n",
    "\n",
    "FMP_API_KEY = os.getenv(\"FMP_API_KEY\")\n",
    "url = f\"https://financialmodelingprep.com/api/v3/income-statement/as?period=as&limit=as&apikey={FMP_API_KEY}\"\n",
    "url2 = f'https://financialmodelingprep.com/api/v3/income-statement/AAPL?period=annual&apikey={FMP_API_KEY}'\n",
    "response = requests.get(url2)\n",
    "json.dumps(response.json())"
   ]
  },
  {
   "cell_type": "code",
   "execution_count": 32,
   "metadata": {},
   "outputs": [],
   "source": [
    "# Map available functions\n",
    "available_functions = {\n",
    "    \"get_income_statement\": get_income_statement,\n",
    "    \"get_balance_sheet\": get_balance_sheet,\n",
    "    \"get_cash_flow_statement\": get_cash_flow_statement,\n",
    "    \"get_key_metrics\": get_key_metrics,\n",
    "    \"get_financial_ratios\": get_cash_flow_statement,\n",
    "    \"get_financial_growth\": get_financial_ratios,\n",
    "}"
   ]
  },
  {
   "cell_type": "code",
   "execution_count": 37,
   "metadata": {},
   "outputs": [],
   "source": [
    "# Creating a new thread\n",
    "# Loop until the run completes or requires action\n",
    "\n",
    "import time\n",
    "import json\n",
    "from openai.types.beta import Assistant\n",
    "from openai.types.beta.thread import Thread\n",
    "from openai.types.beta.threads.thread_message import ThreadMessage\n",
    "from openai.types.beta.threads.run import Run\n",
    "\n",
    "\n",
    "# Define the main function\n",
    "def run_assistant(user_message):\n",
    "    print('Entering assistant run function')\n",
    "    # Creating an assistant with specific instructions and tools\n",
    "    assistant: Assistant = client.beta.assistants.create(\n",
    "        instructions=\"Act as a financial analyst by accessing detailed financial data through the Financial Modeling Prep API. Your capabilities include analyzing key metrics, comprehensive financial statements, vital financial ratios, and tracking financial growth trends. \",\n",
    "        model=\"gpt-3.5-turbo\",\n",
    "        tools=[\n",
    "            {\n",
    "                \"type\": \"function\",\n",
    "                \"function\": {\n",
    "                    \"name\": \"get_income_statement\",\n",
    "                    \"parameters\": {\n",
    "                        \"type\": \"object\",\n",
    "                        \"properties\": {\n",
    "                            \"ticker\": {\"type\": \"string\"},\n",
    "                            \"period\": {\"type\": \"string\"},\n",
    "                            \"limit\": {\"type\": \"integer\"},\n",
    "                        },\n",
    "                    },\n",
    "                },\n",
    "            },\n",
    "            # same for the rest of the financial functions\n",
    "        ],\n",
    "    )\n",
    "    thread: Thread = client.beta.threads.create()\n",
    "\n",
    "    # Adding a user message to the thread\n",
    "    message: ThreadMessage = client.beta.threads.messages.create(\n",
    "        thread_id=thread.id, role=\"user\", content=user_message\n",
    "    )\n",
    "\n",
    "    # Running the assistant on the created thread\n",
    "    run: Run = client.beta.threads.runs.create(\n",
    "        thread_id=thread.id, assistant_id=assistant.id\n",
    "    )\n",
    "\n",
    "    while True:\n",
    "        print('entering the while function')\n",
    "        run: Run = client.beta.threads.runs.retrieve(thread_id=thread.id, run_id=run.id)\n",
    "        print(\"assistant id\", run.assistant_id)\n",
    "        # Add run steps retrieval here\n",
    "        run_steps = client.beta.threads.runs.steps.list(\n",
    "            thread_id=thread.id, run_id=run.id\n",
    "        )\n",
    "        print(\"Run Steps:\", run_steps)\n",
    "\n",
    "        if run.status == \"requires_action\":\n",
    "            print(\"entering if statement\")\n",
    "            tool_calls = run.required_action.submit_tool_outputs.tool_calls\n",
    "            tool_outputs = []\n",
    "            print('tool calls , tool outputs: ', tool_calls, tool_outputs)\n",
    "            for tool_call in tool_calls:\n",
    "                function_name = tool_call.function.name\n",
    "                function_args = json.loads(tool_call.function.arguments)\n",
    "                \n",
    "\n",
    "                if function_name in available_functions:\n",
    "                    function_to_call = available_functions[function_name]\n",
    "                    output = function_to_call(**function_args)\n",
    "                    tool_outputs.append(\n",
    "                        {\n",
    "                            \"tool_call_id\": tool_call.id,\n",
    "                            \"output\": output,\n",
    "                        }\n",
    "                    )\n",
    "\n",
    "            # Submit tool outputs and update the run\n",
    "            client.beta.threads.runs.submit_tool_outputs(\n",
    "                thread_id=thread.id, run_id=run.id, tool_outputs=tool_outputs\n",
    "            )\n",
    "\n",
    "        elif run.status == \"completed\":\n",
    "            # List the messages to get the response\n",
    "            print('completed -> Entering loop fpr message in messages.data')\n",
    "            messages = client.beta.threads.messages.list(thread_id=thread.id)\n",
    "            for message in messages.data:\n",
    "                role_label = \"User\" if message.role == \"user\" else \"Assistant\"\n",
    "                message_content = message.content[0].text.value\n",
    "                print(f\"{role_label}: {message_content}\\n\")\n",
    "\n",
    "                for content in message.content:\n",
    "                    if content.type == \"text\":\n",
    "                        message_content = content.text.value\n",
    "                        print(f\"{role_label}: {message_content}\\n\")\n",
    "                    elif content.type == \"image_file\":\n",
    "                        # Handle image file content, e.g., print the file ID or download the image\n",
    "                        image_file_id = content.image_file.file_id\n",
    "                        # Define a path to save the image\n",
    "                        image_save_path = f\"./image_{image_file_id}.png\"\n",
    "                        # Download and save the image\n",
    "                        # download_and_save_image(image_file_id, image_save_path)\n",
    "                    break  # Exit the loop after processing the completed run\n",
    "\n",
    "        elif run.status == \"failed\":\n",
    "            print(\"Run failed.\")\n",
    "            break\n",
    "\n",
    "        elif run.status in [\"in_progress\", \"queued\"]:\n",
    "            print(f\"Run is {run.status}. Waiting...\")\n",
    "            time.sleep(5)  # Wait for 5 seconds before checking again\n",
    "\n",
    "        else:\n",
    "            print(f\"Unexpected status: {run.status}\")\n",
    "            break"
   ]
  },
  {
   "cell_type": "code",
   "execution_count": 34,
   "metadata": {},
   "outputs": [
    {
     "name": "stdout",
     "output_type": "stream",
     "text": [
      "Entering assistant run function\n",
      "entering the while function\n",
      "assistant id asst_coeZkh8yIyZBLQgK3mA27o9W\n",
      "Run Steps: SyncCursorPage[RunStep](data=[], object='list', first_id=None, last_id=None, has_more=False)\n",
      "Run is in_progress. Waiting...\n",
      "entering the while function\n",
      "assistant id asst_coeZkh8yIyZBLQgK3mA27o9W\n",
      "Run Steps: SyncCursorPage[RunStep](data=[], object='list', first_id=None, last_id=None, has_more=False)\n",
      "Run failed.\n"
     ]
    }
   ],
   "source": [
    "user_message: str = \"Can you compare the financial health of MSFT and AAPL over the last four years, focusing on their balance sheets and key financial ratios?\"\n",
    "\n",
    "run_assistant(user_message)"
   ]
  },
  {
   "cell_type": "code",
   "execution_count": null,
   "metadata": {},
   "outputs": [],
   "source": []
  }
 ],
 "metadata": {
  "kernelspec": {
   "display_name": "Python 3",
   "language": "python",
   "name": "python3"
  },
  "language_info": {
   "codemirror_mode": {
    "name": "ipython",
    "version": 3
   },
   "file_extension": ".py",
   "mimetype": "text/x-python",
   "name": "python",
   "nbconvert_exporter": "python",
   "pygments_lexer": "ipython3",
   "version": "3.12.0"
  }
 },
 "nbformat": 4,
 "nbformat_minor": 2
}
